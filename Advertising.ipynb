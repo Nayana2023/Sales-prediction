{
 "cells": [
  {
   "cell_type": "code",
   "execution_count": 1,
   "id": "2a31d50f",
   "metadata": {},
   "outputs": [
    {
     "name": "stdout",
     "output_type": "stream",
     "text": [
      "      TV  Radio  Newspaper  Sales\n",
      "0  230.1   37.8       69.2   22.1\n",
      "1   44.5   39.3       45.1   10.4\n",
      "2   17.2   45.9       69.3   12.0\n",
      "3  151.5   41.3       58.5   16.5\n",
      "4  180.8   10.8       58.4   17.9\n",
      "<class 'pandas.core.frame.DataFrame'>\n",
      "RangeIndex: 200 entries, 0 to 199\n",
      "Data columns (total 4 columns):\n",
      " #   Column     Non-Null Count  Dtype  \n",
      "---  ------     --------------  -----  \n",
      " 0   TV         200 non-null    float64\n",
      " 1   Radio      200 non-null    float64\n",
      " 2   Newspaper  200 non-null    float64\n",
      " 3   Sales      200 non-null    float64\n",
      "dtypes: float64(4)\n",
      "memory usage: 6.4 KB\n",
      "None\n",
      "Mean Absolute Error (MAE): 0.9162249999999993\n",
      "Root Mean Squared Error (RMSE): 1.198395062156049\n",
      "Predicted Sales: 15.578999999999997\n",
      "Feature Importances: [0.84535495 0.13664184 0.01800321]\n",
      "Best Parameters from Grid Search: {'max_depth': None, 'n_estimators': 300}\n"
     ]
    }
   ],
   "source": [
    "import pandas as pd\n",
    "from sklearn.model_selection import train_test_split\n",
    "from sklearn.preprocessing import StandardScaler\n",
    "from sklearn.ensemble import RandomForestRegressor\n",
    "from sklearn.metrics import mean_absolute_error, mean_squared_error\n",
    "from sklearn.model_selection import GridSearchCV\n",
    "\n",
    "df=pd.read_csv('advertising.csv')\n",
    "\n",
    "print(df.head())  \n",
    "print(df.info())  \n",
    "\n",
    "df.fillna(method='ffill',inplace=True)\n",
    "\n",
    "X=df[['TV','Radio','Newspaper']] \n",
    "y=df['Sales']  \n",
    "\n",
    "scaler=StandardScaler()\n",
    "X_scaled=scaler.fit_transform(X)\n",
    "\n",
    "X_train,X_test,y_train,y_test=train_test_split(X_scaled,y,test_size=0.2,random_state=42)\n",
    "\n",
    "model=RandomForestRegressor(n_estimators=100,random_state=42)\n",
    "\n",
    "model.fit(X_train,y_train)\n",
    "\n",
    "y_pred=model.predict(X_test)\n",
    "\n",
    "mae=mean_absolute_error(y_test,y_pred)\n",
    "rmse=mean_squared_error(y_test,y_pred,squared=False)\n",
    "\n",
    "print(f\"Mean Absolute Error (MAE): {mae}\")\n",
    "print(f\"Root Mean Squared Error (RMSE): {rmse}\")\n",
    "\n",
    "def predict_sales(ad_budget_tv, ad_budget_radio, ad_budget_newspaper):\n",
    "    new_data = pd.DataFrame({\n",
    "        'TV': [ad_budget_tv],\n",
    "        'Radio': [ad_budget_radio],\n",
    "        'Newspaper': [ad_budget_newspaper]\n",
    "    })\n",
    "\n",
    "    new_data_scaled = scaler.transform(new_data)\n",
    "    predicted_sales = model.predict(new_data_scaled)\n",
    "    return predicted_sales[0]\n",
    "\n",
    "predicted_sales = predict_sales(ad_budget_tv=150, ad_budget_radio=30, ad_budget_newspaper=20)\n",
    "print(f\"Predicted Sales: {predicted_sales}\")\n",
    "feature_importances = model.feature_importances_\n",
    "print(\"Feature Importances:\", feature_importances)\n",
    "param_grid = {\n",
    "    'n_estimators': [100, 200, 300],\n",
    "    'max_depth': [None, 10, 20]\n",
    "}\n",
    "grid_search = GridSearchCV(estimator=model, param_grid=param_grid, cv=3)\n",
    "grid_search.fit(X_train, y_train)\n",
    "print(f\"Best Parameters from Grid Search: {grid_search.best_params_}\")\n"
   ]
  },
  {
   "cell_type": "code",
   "execution_count": null,
   "id": "70cabb99",
   "metadata": {},
   "outputs": [],
   "source": []
  },
  {
   "cell_type": "code",
   "execution_count": null,
   "id": "a27f8c13",
   "metadata": {},
   "outputs": [],
   "source": []
  }
 ],
 "metadata": {
  "kernelspec": {
   "display_name": "Python 3 (ipykernel)",
   "language": "python",
   "name": "python3"
  },
  "language_info": {
   "codemirror_mode": {
    "name": "ipython",
    "version": 3
   },
   "file_extension": ".py",
   "mimetype": "text/x-python",
   "name": "python",
   "nbconvert_exporter": "python",
   "pygments_lexer": "ipython3",
   "version": "3.9.13"
  }
 },
 "nbformat": 4,
 "nbformat_minor": 5
}
